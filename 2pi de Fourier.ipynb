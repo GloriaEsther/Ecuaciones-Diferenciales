{
 "cells": [
  {
   "cell_type": "code",
   "execution_count": 19,
   "metadata": {},
   "outputs": [],
   "source": [
    "from IPython.display import Image\n",
    "import numpy as np\n",
    "from scipy import integrate\n",
    "import matplotlib.pyplot as plt\n",
    "import scipy as sp\n",
    "import sympy as sym\n",
    "\n",
    "%matplotlib inline"
   ]
  },
  {
   "cell_type": "code",
   "execution_count": 20,
   "metadata": {},
   "outputs": [],
   "source": [
    "#Declaramos variables simbolicas\n",
    "n= sym.Symbol('n')\n",
    "t=sym.Symbol('t')\n",
    "\n",
    "#Definimos funcion periodica...\n",
    "#intervalos de la funcion\n",
    "Tmin=0\n",
    "Tmax=2*np.pi\n",
    "\n",
    "T=Tmax-Tmin#periodo\n",
    "w=2*np.pi/T#periodo 2pi\n",
    "#w=frecuencia angular\n",
    "#ft es una funcion simbolica\n",
    "ft=t\n"
   ]
  },
  {
   "cell_type": "code",
   "execution_count": 21,
   "metadata": {},
   "outputs": [
    {
     "name": "stdout",
     "output_type": "stream",
     "text": [
      "a0= \n",
      "6.28318530717959\n",
      "an= \n",
      "⎧2.0⋅n⋅sin(6.28318530717959⋅n) + 0.318309886183791⋅cos(6.28318530717959⋅n) - 0\n",
      "⎪─────────────────────────────────────────────────────────────────────────────\n",
      "⎪                                               2                             \n",
      "⎨                                              n                              \n",
      "⎪                                                                             \n",
      "⎪                                      6.28318530717959                       \n",
      "⎩                                                                             \n",
      "\n",
      ".318309886183791                                                              \n",
      "────────────────  for (n > -∞ ∨ n > 0) ∧ (n > -∞ ∨ n < ∞) ∧ (n > 0 ∨ n < 0) ∧ \n",
      "                                                                              \n",
      "                                                                              \n",
      "                                                                              \n",
      "                                                   otherwise                  \n",
      "                                                                              \n",
      "\n",
      "               \n",
      "(n < 0 ∨ n < ∞)\n",
      "               \n",
      "               \n",
      "               \n",
      "               \n",
      "               \n",
      "bn= \n",
      "⎧-2.0⋅n⋅cos(6.28318530717959⋅n) + 0.318309886183791⋅sin(6.28318530717959⋅n)   \n",
      "⎪──────────────────────────────────────────────────────────────────────────  f\n",
      "⎪                                     2                                       \n",
      "⎨                                    n                                        \n",
      "⎪                                                                             \n",
      "⎪                                    0                                        \n",
      "⎩                                                                             \n",
      "\n",
      "                                                                          \n",
      "or (n > -∞ ∨ n > 0) ∧ (n > -∞ ∨ n < ∞) ∧ (n > 0 ∨ n < 0) ∧ (n < 0 ∨ n < ∞)\n",
      "                                                                          \n",
      "                                                                          \n",
      "                                                                          \n",
      "                                otherwise                                 \n",
      "                                                                          \n"
     ]
    }
   ],
   "source": [
    "#Calculamos coeficentes de Fourier\n",
    "\n",
    "# Calcula la integral para a0\n",
    "f_integral=ft\n",
    "a0=(2/T)*sym.integrate(f_integral,(t,Tmin,Tmax))\n",
    "print(\"a0= \")\n",
    "sym.pprint(a0)\n",
    "#Calcula la integral para an\n",
    "f_integral=ft*sym.cos(n*w*t)\n",
    "an=(2/T)*sym.integrate(f_integral,(t,Tmin,Tmax))\n",
    "an=sym.simplify(an)\n",
    "print(\"an= \")\n",
    "sym.pprint(an)\n",
    "#integral de bn\n",
    "f_integral=ft*sym.sin(n*w*t)\n",
    "bn=(2/T)*sym.integrate(f_integral,(t,Tmin,Tmax))\n",
    "print(\"bn= \")\n",
    "bn=sym.simplify(bn)\n",
    "sym.pprint(bn)"
   ]
  },
  {
   "cell_type": "code",
   "execution_count": 22,
   "metadata": {},
   "outputs": [
    {
     "name": "stdout",
     "output_type": "stream",
     "text": [
      "f(t)= \n",
      "3.14159265358979 - 2.0⋅sin(1.0⋅t)\n",
      "f(t)= \n",
      "-2.0⋅sin(1.0⋅t) - sin(2.0⋅t) + 6.28318530717959\n",
      "f(t)= \n",
      "-2.0⋅sin(1.0⋅t) - sin(2.0⋅t) - 0.666666666666667⋅sin(3.0⋅t) + 9.42477796076938\n",
      "f(t)= \n",
      "-2.0⋅sin(1.0⋅t) - sin(2.0⋅t) - 0.666666666666667⋅sin(3.0⋅t) - 0.5⋅sin(4.0⋅t) +\n",
      " 12.5663706143592\n",
      "f(t)= \n",
      "-2.0⋅sin(1.0⋅t) - sin(2.0⋅t) - 0.666666666666667⋅sin(3.0⋅t) - 0.5⋅sin(4.0⋅t) -\n",
      " 0.4⋅sin(5.0⋅t) + 15.707963267949\n"
     ]
    }
   ],
   "source": [
    "#representar la expansion en series de fourier\n",
    "serie=0\n",
    "Armonicos=5\n",
    "\n",
    "for i in range(1,Armonicos+1):\n",
    "    #evaluar coeficientes para cada armonico\n",
    "    an_c=an.subs(n,i)\n",
    "    bn_c=bn.subs(n,i)\n",
    "    if abs(an_c)<0.0001:an_c=0\n",
    "    if abs(bn_c)<0.0001: bn_c=0\n",
    "    serie=serie+an_c*sym.cos(i*w*t)\n",
    "    serie=serie +bn_c*sym.sin(i*w*t)\n",
    "\n",
    "    serie=a0/2+serie\n",
    "    print('f(t)= ')\n",
    "    sym.pprint(serie)"
   ]
  },
  {
   "cell_type": "code",
   "execution_count": 23,
   "metadata": {},
   "outputs": [],
   "source": [
    " #Grafica\n",
    "fserie=sym.lambdify(t,serie)\n",
    "f=sym.lambdify(t,ft)\n",
    "\n",
    "v_tiempo=np.linspace(Tmin,Tmax,50)\n",
    "\n",
    "fserieG=fserie(v_tiempo)\n",
    "FG=f(v_tiempo)"
   ]
  },
  {
   "cell_type": "code",
   "execution_count": 24,
   "metadata": {},
   "outputs": [
    {
     "data": {
      "image/png": "[encoded data removed]",
      "text/plain": [
       "<Figure size 640x480 with 1 Axes>"
      ]
     },
     "metadata": {},
     "output_type": "display_data"
    }
   ],
   "source": [
    "plt.plot(v_tiempo,FG,label='f(t)= ')\n",
    "plt.plot(v_tiempo,fserieG,label= 'Expansion')\n",
    "plt.xlabel('tiempo')\n",
    "plt.legend()\n",
    "plt.title(\"Expasion de fourier\")\n",
    "\n",
    "plt.show()"
   ]
  }
 ],
 "metadata": {
  "kernelspec": {
   "display_name": "Python 3.10.6 64-bit",
   "language": "python",
   "name": "python3"
  },
  "language_info": {
   "codemirror_mode": {
    "name": "ipython",
    "version": 3
   },
   "file_extension": ".py",
   "mimetype": "text/x-python",
   "name": "python",
   "nbconvert_exporter": "python",
   "pygments_lexer": "ipython3",
   "version": "3.10.6"
  },
  "orig_nbformat": 4,
  "vscode": {
   "interpreter": {
    "hash": "32a1253ced6a012d1be109d28799180b249bb0b799c86f4480c8de546a78dcb0"
   }
  }
 },
 "nbformat": 4,
 "nbformat_minor": 2
}
