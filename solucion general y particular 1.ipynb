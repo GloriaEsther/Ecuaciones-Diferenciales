{
 "cells": [
  {
   "cell_type": "code",
   "execution_count": 1,
   "id": "fc4dd204",
   "metadata": {},
   "outputs": [],
   "source": [
    "import numpy as np"
   ]
  },
  {
   "cell_type": "code",
   "execution_count": 2,
   "id": "d22a17bc",
   "metadata": {},
   "outputs": [
    {
     "name": "stdout",
     "output_type": "stream",
     "text": [
      "matriz\n",
      "[[ 2  4  6]\n",
      " [ 4  5  6]\n",
      " [ 3  1 -2]]\n",
      "respuesta Respuesta general\n",
      "[ 4. -2.  3.]\n",
      "Solucion particular\n",
      "[156 216  70]\n"
     ]
    }
   ],
   "source": [
    "\n",
    "uno = 2\n",
    "dos = 4\n",
    "tres = 6\n",
    "u = 4\n",
    "d = 5\n",
    "t = 6\n",
    "ud = 3\n",
    "dd = 1\n",
    "td = -2\n",
    "\n",
    "r1 = 18\n",
    "r2 = 24\n",
    "r3 = 4\n",
    "\n",
    "a = np.array([[uno,dos,tres],[u,d,t],[ud,dd,td]])\n",
    "b = np.array([r1,r2,r3])\n",
    "x=np.linalg.solve(a,b)\n",
    "print(\"matriz\")\n",
    "print(a)\n",
    "print(\"respuesta Respuesta general\")\n",
    "print(x)\n",
    "\n",
    "q = ((uno*r1)+(dos*r2)+(tres*r3)) \n",
    "w = ((u*r1)+(d*r2)+(t*r3))\n",
    "e = ((ud*r1)+(dd*r2)+(td*r3)) \n",
    "t = np.array([q,w,e])\n",
    "print(\"Solucion particular\")\n",
    "print(t)\n"
   ]
  },
  {
   "cell_type": "code",
   "execution_count": null,
   "id": "3cf71c7c",
   "metadata": {},
   "outputs": [],
   "source": []
  }
 ],
 "metadata": {
  "kernelspec": {
   "display_name": "Python 3.10.6 64-bit",
   "language": "python",
   "name": "python3"
  },
  "language_info": {
   "codemirror_mode": {
    "name": "ipython",
    "version": 3
   },
   "file_extension": ".py",
   "mimetype": "text/x-python",
   "name": "python",
   "nbconvert_exporter": "python",
   "pygments_lexer": "ipython3",
   "version": "3.10.6"
  },
  "vscode": {
   "interpreter": {
    "hash": "32a1253ced6a012d1be109d28799180b249bb0b799c86f4480c8de546a78dcb0"
   }
  }
 },
 "nbformat": 4,
 "nbformat_minor": 5
}
