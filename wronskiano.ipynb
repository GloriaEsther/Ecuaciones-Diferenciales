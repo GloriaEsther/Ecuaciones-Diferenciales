{
 "cells": [
  {
   "cell_type": "code",
   "execution_count": 1,
   "metadata": {},
   "outputs": [],
   "source": [
    "from sympy import*\n",
    "import numpy as np\n",
    "#declarar x y y\n",
    "x=symbols('x')\n",
    "y=symbols('y')\n",
    "\n",
    "# se va a calcular el wronskiano de las funciones y1=senx y2=cos x y3=1"
   ]
  },
  {
   "cell_type": "code",
   "execution_count": 2,
   "metadata": {},
   "outputs": [
    {
     "name": "stdout",
     "output_type": "stream",
     "text": [
      "Wronskiano\n",
      "Las funciones a resolver por este metodo son: y1=cosx, y2=senx, y3=1 \n"
     ]
    }
   ],
   "source": [
    "#Declarar Funciones a resolver\n",
    "print(\"Wronskiano\")\n",
    "print(\"Las funciones a resolver por este metodo son: y1=cosx, y2=senx, y3=1 \")\n",
    "y1=sin(x)\n",
    "y2=cos(x)\n",
    "y3=1"
   ]
  },
  {
   "cell_type": "code",
   "execution_count": 3,
   "metadata": {},
   "outputs": [],
   "source": [
    "#luego se derivan \n",
    "#2da derivada \n",
    "n=diff(y1)\n",
    "n2=diff(y2)\n",
    "n3=diff(y3)\n",
    "#3ra Derivada\n",
    "N1=diff(n)\n",
    "N2=diff(n2)\n",
    "N3=diff(n3)"
   ]
  },
  {
   "cell_type": "code",
   "execution_count": 4,
   "metadata": {},
   "outputs": [
    {
     "name": "stdout",
     "output_type": "stream",
     "text": [
      "Matrix([[sin(x), cos(x), 1], [cos(x), -sin(x), 0], [-sin(x), -cos(x), 0]])\n",
      "El resultado es:  \n"
     ]
    },
    {
     "data": {
      "text/latex": [
       "$\\displaystyle - \\sin^{2}{\\left(x \\right)} - \\cos^{2}{\\left(x \\right)}$"
      ],
      "text/plain": [
       "-sin(x)**2 - cos(x)**2"
      ]
     },
     "execution_count": 4,
     "metadata": {},
     "output_type": "execute_result"
    }
   ],
   "source": [
    "\n",
    "#Matriz\n",
    "n_array=Matrix([[y1,y2,y3],[n,n2,n3],[N1,N2,N3]])\n",
    "\n",
    "print(n_array)\n",
    "#Aqui lo resuelve\n",
    "res=n_array.det()\n",
    "#Muestrael resultado\n",
    "print(\"El resultado es:  \")\n",
    "res"
   ]
  }
 ],
 "metadata": {
  "kernelspec": {
   "display_name": "Python 3.10.6 64-bit",
   "language": "python",
   "name": "python3"
  },
  "language_info": {
   "codemirror_mode": {
    "name": "ipython",
    "version": 3
   },
   "file_extension": ".py",
   "mimetype": "text/x-python",
   "name": "python",
   "nbconvert_exporter": "python",
   "pygments_lexer": "ipython3",
   "version": "3.10.6"
  },
  "orig_nbformat": 4,
  "vscode": {
   "interpreter": {
    "hash": "32a1253ced6a012d1be109d28799180b249bb0b799c86f4480c8de546a78dcb0"
   }
  }
 },
 "nbformat": 4,
 "nbformat_minor": 2
}
