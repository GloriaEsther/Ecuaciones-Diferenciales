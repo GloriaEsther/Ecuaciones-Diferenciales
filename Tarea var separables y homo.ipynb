{
 "cells": [
  {
   "cell_type": "code",
   "execution_count": 52,
   "metadata": {},
   "outputs": [],
   "source": [
    "%matplotlib inline\n",
    "\n",
    "import matplotlib.pyplot as plt\n",
    "import numpy as np\n",
    "import sympy\n",
    "#from sympy import* \n",
    "from scipy import integrate\n",
    "from scipy.integrate import quad\n"
   ]
  },
  {
   "cell_type": "code",
   "execution_count": 53,
   "metadata": {},
   "outputs": [
    {
     "name": "stdout",
     "output_type": "stream",
     "text": [
      "----------------------Ecuacion diferencial de variables separables------------------------ \n",
      "Se busca la solucion a la siguiente ecuacion: \n"
     ]
    },
    {
     "data": {
      "text/latex": [
       "$\\displaystyle \\frac{d}{d x} y{\\left(x \\right)} = 4 x - 6$"
      ],
      "text/plain": [
       "Eq(Derivative(y(x), x), 4*x - 6)"
      ]
     },
     "execution_count": 53,
     "metadata": {},
     "output_type": "execute_result"
    }
   ],
   "source": [
    "# Resolviendo ecuación diferencial de variables separables y'=4x-6\n",
    "# defino las incognitas\n",
    "x = sympy.Symbol('x')\n",
    "y = sympy.Function('y')\n",
    "\n",
    "print(\"----------------------Ecuacion diferencial de variables separables------------------------ \")\n",
    "print(\"Se busca la solucion a la siguiente ecuacion: \")\n",
    "\n",
    "eq= 4*x - 6 #*(y(x))\n",
    "sympy.Eq(y(x).diff(x),eq)"
   ]
  },
  {
   "cell_type": "code",
   "execution_count": 54,
   "metadata": {},
   "outputs": [
    {
     "name": "stdout",
     "output_type": "stream",
     "text": [
      "La solucion general de la ecuacion diferencial y'= 4x - 6 es: \n"
     ]
    },
    {
     "data": {
      "text/latex": [
       "$\\displaystyle y{\\left(x \\right)} = C_{1} + 2 x^{2} - 6 x$"
      ],
      "text/plain": [
       "Eq(y(x), C1 + 2*x**2 - 6*x)"
      ]
     },
     "execution_count": 54,
     "metadata": {},
     "output_type": "execute_result"
    }
   ],
   "source": [
    "# Resolviendo la ecuación\n",
    "edo_sol = sympy.dsolve(y(x).diff(x) - eq)\n",
    "print(\"La solucion general de la ecuacion diferencial y'= 4x - 6 es: \")\n",
    "edo_sol"
   ]
  },
  {
   "cell_type": "code",
   "execution_count": 55,
   "metadata": {},
   "outputs": [
    {
     "name": "stdout",
     "output_type": "stream",
     "text": [
      "-----------------------Ecuaciones diferenciales homogeneas-------------------------------\n",
      "Se busca la solucion a la siguiente ecuacion: \n"
     ]
    },
    {
     "data": {
      "text/latex": [
       "$\\displaystyle \\frac{d}{d x} y{\\left(x \\right)} = - 7 x^{2} y{\\left(x \\right)} + 2 x^{2}$"
      ],
      "text/plain": [
       "Eq(Derivative(y(x), x), -7*x**2*y(x) + 2*x**2)"
      ]
     },
     "execution_count": 55,
     "metadata": {},
     "output_type": "execute_result"
    }
   ],
   "source": [
    "print(\"-----------------------Ecuaciones diferenciales homogeneas-------------------------------\")\n",
    "#definiendo ecuacion homogenea dx=-7x^2y(x)+2x^2\n",
    "# definiendo la ecuación \n",
    "print(\"Se busca la solucion a la siguiente ecuacion: \")\n",
    "eq = 2*x**2 - 7*x**2*(y(x))\n",
    "sympy.Eq(y(x).diff(x),eq)"
   ]
  },
  {
   "cell_type": "code",
   "execution_count": 56,
   "metadata": {},
   "outputs": [
    {
     "name": "stdout",
     "output_type": "stream",
     "text": [
      "La solucion  de la ecuacion diferencial dx=-7x^2y(x)+2x^2 es: \n"
     ]
    },
    {
     "data": {
      "text/latex": [
       "$\\displaystyle y{\\left(x \\right)} = C_{1} e^{- \\frac{7 x^{3}}{3}} + \\frac{2}{7}$"
      ],
      "text/plain": [
       "Eq(y(x), C1*exp(-7*x**3/3) + 2/7)"
      ]
     },
     "execution_count": 56,
     "metadata": {},
     "output_type": "execute_result"
    }
   ],
   "source": [
    "#  Condición inicial\n",
    "ics = {y(0): 0}\n",
    "\n",
    "# Resolviendo la ecuación\n",
    "edo_sol = sympy.dsolve(y(x).diff(x) - eq)\n",
    "print(\"La solucion  de la ecuacion diferencial dx=-7x^2y(x)+2x^2 es: \")\n",
    "edo_sol"
   ]
  }
 ],
 "metadata": {
  "kernelspec": {
   "display_name": "Python 3.10.6 64-bit",
   "language": "python",
   "name": "python3"
  },
  "language_info": {
   "codemirror_mode": {
    "name": "ipython",
    "version": 3
   },
   "file_extension": ".py",
   "mimetype": "text/x-python",
   "name": "python",
   "nbconvert_exporter": "python",
   "pygments_lexer": "ipython3",
   "version": "3.10.6"
  },
  "orig_nbformat": 4,
  "vscode": {
   "interpreter": {
    "hash": "32a1253ced6a012d1be109d28799180b249bb0b799c86f4480c8de546a78dcb0"
   }
  }
 },
 "nbformat": 4,
 "nbformat_minor": 2
}
