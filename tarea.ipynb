{
 "cells": [
  {
   "cell_type": "code",
   "execution_count": 1,
   "metadata": {},
   "outputs": [
    {
     "data": {
      "text/latex": [
       "$\\displaystyle y{\\left(x \\right)} = \\log{\\left(- \\frac{e^{x}}{C_{1} e^{x} - 1} \\right)}$"
      ],
      "text/plain": [
       "Eq(y(x), log(-exp(x)/(C1*exp(x) - 1)))"
      ]
     },
     "execution_count": 1,
     "metadata": {},
     "output_type": "execute_result"
    }
   ],
   "source": [
    "from sympy import *\n",
    "x = symbols(\"x\")\n",
    "y = Function(\"y\")\n",
    "#para resolver la ecuacion separable y'=e^(yx)\n",
    "dsolve(Eq(Derivative(y(x), x), exp(y(x)-x)), y(x))"
   ]
  },
  {
   "cell_type": "code",
   "execution_count": 2,
   "metadata": {},
   "outputs": [
    {
     "name": "stdout",
     "output_type": "stream",
     "text": [
      "('separable', '1st_exact', '1st_power_series', 'lie_group', 'separable_Integral', '1st_exact_Integral')\n"
     ]
    },
    {
     "data": {
      "text/latex": [
       "$\\displaystyle y{\\left(x \\right)} = \\log{\\left(- \\frac{e^{x}}{C_{1} e^{x} - 1} \\right)}$"
      ],
      "text/plain": [
       "Eq(y(x), log(-exp(x)/(C1*exp(x) - 1)))"
      ]
     },
     "execution_count": 2,
     "metadata": {},
     "output_type": "execute_result"
    }
   ],
   "source": [
    "eq = Eq(Derivative(y(x), x), exp(y(x)-x))\n",
    "print(classify_ode(eq,y(x)))\n",
    "dsolve(eq, y(x), hint='separable')\n",
    "('factorable', 'separable', '1st_power_series', 'lie_group', 'separable_Integral')"
   ]
  },
  {
   "cell_type": "markdown",
   "metadata": {},
   "source": []
  }
 ],
 "metadata": {
  "kernelspec": {
   "display_name": "Python 3.10.6 64-bit",
   "language": "python",
   "name": "python3"
  },
  "language_info": {
   "codemirror_mode": {
    "name": "ipython",
    "version": 3
   },
   "file_extension": ".py",
   "mimetype": "text/x-python",
   "name": "python",
   "nbconvert_exporter": "python",
   "pygments_lexer": "ipython3",
   "version": "3.10.6"
  },
  "orig_nbformat": 4,
  "vscode": {
   "interpreter": {
    "hash": "32a1253ced6a012d1be109d28799180b249bb0b799c86f4480c8de546a78dcb0"
   }
  }
 },
 "nbformat": 4,
 "nbformat_minor": 2
}
