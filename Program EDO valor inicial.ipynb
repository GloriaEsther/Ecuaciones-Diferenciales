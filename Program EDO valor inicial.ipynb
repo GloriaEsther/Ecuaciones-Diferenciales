{
 "cells": [
  {
   "cell_type": "code",
   "execution_count": 6,
   "metadata": {},
   "outputs": [],
   "source": [
    "%matplotlib inline\n",
    "\n",
    "import matplotlib.pyplot as plt\n",
    "import numpy as np\n",
    "import sympy\n",
    "#from sympy import* \n",
    "from scipy import integrate\n",
    "#sympy.init_printing(use_latex='mathjax')"
   ]
  },
  {
   "cell_type": "code",
   "execution_count": 7,
   "metadata": {},
   "outputs": [
    {
     "data": {
      "text/latex": [
       "$\\displaystyle \\frac{d}{d x} y{\\left(x \\right)} = - 7 x^{2} y{\\left(x \\right)} + 2 x^{2}$"
      ],
      "text/plain": [
       "Eq(Derivative(y(x), x), -7*x**2*y(x) + 2*x**2)"
      ]
     },
     "execution_count": 7,
     "metadata": {},
     "output_type": "execute_result"
    }
   ],
   "source": [
    "# Resolviendo ecuación diferencial\n",
    "# defino las incognitas\n",
    "x = sympy.Symbol('x')\n",
    "y = sympy.Function('y')\n",
    "\n",
    "eq= 2*x**2 - 7*x**2*(y(x))\n",
    "sympy.Eq(y(x).diff(x),eq)"
   ]
  },
  {
   "cell_type": "code",
   "execution_count": 8,
   "metadata": {},
   "outputs": [
    {
     "data": {
      "text/latex": [
       "$\\displaystyle y{\\left(x \\right)} = C_{1} e^{- \\frac{7 x^{3}}{3}} + \\frac{2}{7}$"
      ],
      "text/plain": [
       "Eq(y(x), C1*exp(-7*x**3/3) + 2/7)"
      ]
     },
     "execution_count": 8,
     "metadata": {},
     "output_type": "execute_result"
    }
   ],
   "source": [
    "# definiendo la ecuación\n",
    "eq = 2*x**2 - 7*x**2*(y(x))\n",
    "sympy.Eq(y(x).diff(x),eq)\n",
    "\n",
    "#  Condición inicial\n",
    "ics = {y(0): 2}\n",
    "\n",
    "# Resolviendo la ecuación\n",
    "edo_sol = sympy.dsolve(y(x).diff(x) - eq)\n",
    "edo_sol"
   ]
  },
  {
   "cell_type": "code",
   "execution_count": 9,
   "metadata": {},
   "outputs": [
    {
     "data": {
      "text/plain": [
       "[12/7]"
      ]
     },
     "execution_count": 9,
     "metadata": {},
     "output_type": "execute_result"
    }
   ],
   "source": [
    "C_eq = sympy.Eq(edo_sol.lhs.subs(x, 0).subs(ics), edo_sol.rhs.subs(x, 0))\n",
    "C_eq\n",
    "\n",
    "sympy.solve(C_eq)"
   ]
  }
 ],
 "metadata": {
  "kernelspec": {
   "display_name": "Python 3.10.6 64-bit",
   "language": "python",
   "name": "python3"
  },
  "language_info": {
   "codemirror_mode": {
    "name": "ipython",
    "version": 3
   },
   "file_extension": ".py",
   "mimetype": "text/x-python",
   "name": "python",
   "nbconvert_exporter": "python",
   "pygments_lexer": "ipython3",
   "version": "3.10.6"
  },
  "orig_nbformat": 4,
  "vscode": {
   "interpreter": {
    "hash": "32a1253ced6a012d1be109d28799180b249bb0b799c86f4480c8de546a78dcb0"
   }
  }
 },
 "nbformat": 4,
 "nbformat_minor": 2
}
